{
  "cells": [
    {
      "cell_type": "code",
      "execution_count": 13,
      "metadata": {
        "id": "DjD2lhQUWIpl"
      },
      "outputs": [],
      "source": [
        "import numpy as np"
      ]
    },
    {
      "cell_type": "markdown",
      "metadata": {
        "id": "JI_nc9PJX41P"
      },
      "source": [
        "np.random.randint를 사용한 faltten()"
      ]
    },
    {
      "cell_type": "code",
      "execution_count": 45,
      "metadata": {
        "id": "2VXGGYKoWzhG"
      },
      "outputs": [],
      "source": [
        "num = np.random.randint(0, 10, (10, 10)) #0~10까지 숫자, 10x10 행렬"
      ]
    },
    {
      "cell_type": "markdown",
      "metadata": {
        "id": "QpRjDqUrYb3J"
      },
      "source": [
        "flatten 사용 전"
      ]
    },
    {
      "cell_type": "code",
      "execution_count": 46,
      "metadata": {
        "colab": {
          "base_uri": "https://localhost:8080/"
        },
        "id": "vpaFrZmRW-TN",
        "outputId": "469972ba-712a-4bf9-f012-04c9b67b81db"
      },
      "outputs": [
        {
          "data": {
            "text/plain": [
              "array([[5, 0, 7, 7, 4, 1, 7, 2, 9, 2],\n",
              "       [6, 0, 1, 8, 5, 8, 2, 2, 2, 6],\n",
              "       [2, 1, 6, 6, 6, 1, 3, 0, 7, 2],\n",
              "       [7, 7, 7, 7, 5, 8, 3, 0, 8, 0],\n",
              "       [1, 1, 4, 9, 5, 1, 6, 8, 4, 6],\n",
              "       [5, 2, 4, 1, 2, 9, 1, 6, 2, 3],\n",
              "       [5, 7, 7, 0, 8, 9, 0, 8, 2, 9],\n",
              "       [4, 6, 2, 8, 9, 5, 4, 1, 4, 1],\n",
              "       [1, 0, 9, 1, 6, 9, 1, 2, 9, 0],\n",
              "       [9, 4, 9, 8, 8, 4, 3, 8, 3, 5]])"
            ]
          },
          "execution_count": 46,
          "metadata": {},
          "output_type": "execute_result"
        }
      ],
      "source": [
        "num"
      ]
    },
    {
      "cell_type": "markdown",
      "metadata": {
        "id": "tmMc065RYkt-"
      },
      "source": [
        "flatten 사용 후"
      ]
    },
    {
      "cell_type": "code",
      "execution_count": 58,
      "metadata": {
        "colab": {
          "base_uri": "https://localhost:8080/"
        },
        "id": "CuEGZ9toZo_8",
        "outputId": "1ffc4df7-7552-482a-a012-dece40e3edc7"
      },
      "outputs": [
        {
          "data": {
            "text/plain": [
              "array([5, 0, 7, 7, 4, 1, 7, 2, 9, 2, 6, 0, 1, 8, 5, 8, 2, 2, 2, 6, 2, 1,\n",
              "       6, 6, 6, 1, 3, 0, 7, 2, 7, 7, 7, 7, 5, 8, 3, 0, 8, 0, 1, 1, 4, 9,\n",
              "       5, 1, 6, 8, 4, 6, 5, 2, 4, 1, 2, 9, 1, 6, 2, 3, 5, 7, 7, 0, 8, 9,\n",
              "       0, 8, 2, 9, 4, 6, 2, 8, 9, 5, 4, 1, 4, 1, 1, 0, 9, 1, 6, 9, 1, 2,\n",
              "       9, 0, 9, 4, 9, 8, 8, 4, 3, 8, 3, 5])"
            ]
          },
          "execution_count": 58,
          "metadata": {},
          "output_type": "execute_result"
        }
      ],
      "source": [
        "num.flatten()"
      ]
    },
    {
      "cell_type": "markdown",
      "metadata": {
        "id": "MQpfeHxbZuoc"
      },
      "source": [
        "flatten을 enumerate로 정렬하기"
      ]
    },
    {
      "cell_type": "code",
      "execution_count": 59,
      "metadata": {
        "colab": {
          "base_uri": "https://localhost:8080/"
        },
        "id": "Jx1cjE-qXtCF",
        "outputId": "48e6f69f-4d65-4014-ecb0-71fb8ad30f4e"
      },
      "outputs": [
        {
          "name": "stdout",
          "output_type": "stream",
          "text": [
            "(0, 5)\n",
            "(1, 0)\n",
            "(2, 7)\n",
            "(3, 7)\n",
            "(4, 4)\n",
            "(5, 1)\n",
            "(6, 7)\n",
            "(7, 2)\n",
            "(8, 9)\n",
            "(9, 2)\n",
            "(10, 6)\n",
            "(11, 0)\n",
            "(12, 1)\n",
            "(13, 8)\n",
            "(14, 5)\n",
            "(15, 8)\n",
            "(16, 2)\n",
            "(17, 2)\n",
            "(18, 2)\n",
            "(19, 6)\n",
            "(20, 2)\n",
            "(21, 1)\n",
            "(22, 6)\n",
            "(23, 6)\n",
            "(24, 6)\n",
            "(25, 1)\n",
            "(26, 3)\n",
            "(27, 0)\n",
            "(28, 7)\n",
            "(29, 2)\n",
            "(30, 7)\n",
            "(31, 7)\n",
            "(32, 7)\n",
            "(33, 7)\n",
            "(34, 5)\n",
            "(35, 8)\n",
            "(36, 3)\n",
            "(37, 0)\n",
            "(38, 8)\n",
            "(39, 0)\n",
            "(40, 1)\n",
            "(41, 1)\n",
            "(42, 4)\n",
            "(43, 9)\n",
            "(44, 5)\n",
            "(45, 1)\n",
            "(46, 6)\n",
            "(47, 8)\n",
            "(48, 4)\n",
            "(49, 6)\n",
            "(50, 5)\n",
            "(51, 2)\n",
            "(52, 4)\n",
            "(53, 1)\n",
            "(54, 2)\n",
            "(55, 9)\n",
            "(56, 1)\n",
            "(57, 6)\n",
            "(58, 2)\n",
            "(59, 3)\n",
            "(60, 5)\n",
            "(61, 7)\n",
            "(62, 7)\n",
            "(63, 0)\n",
            "(64, 8)\n",
            "(65, 9)\n",
            "(66, 0)\n",
            "(67, 8)\n",
            "(68, 2)\n",
            "(69, 9)\n",
            "(70, 4)\n",
            "(71, 6)\n",
            "(72, 2)\n",
            "(73, 8)\n",
            "(74, 9)\n",
            "(75, 5)\n",
            "(76, 4)\n",
            "(77, 1)\n",
            "(78, 4)\n",
            "(79, 1)\n",
            "(80, 1)\n",
            "(81, 0)\n",
            "(82, 9)\n",
            "(83, 1)\n",
            "(84, 6)\n",
            "(85, 9)\n",
            "(86, 1)\n",
            "(87, 2)\n",
            "(88, 9)\n",
            "(89, 0)\n",
            "(90, 9)\n",
            "(91, 4)\n",
            "(92, 9)\n",
            "(93, 8)\n",
            "(94, 8)\n",
            "(95, 4)\n",
            "(96, 3)\n",
            "(97, 8)\n",
            "(98, 3)\n",
            "(99, 5)\n"
          ]
        }
      ],
      "source": [
        "fla = num.flatten()\n",
        "for i in enumerate(fla):\n",
        "  print(i)"
      ]
    }
  ],
  "metadata": {
    "colab": {
      "name": "연습장",
      "provenance": []
    },
    "kernelspec": {
      "display_name": "Python 3",
      "name": "python3"
    },
    "language_info": {
      "name": "python"
    }
  },
  "nbformat": 4,
  "nbformat_minor": 0
}
